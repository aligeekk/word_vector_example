{
 "cells": [
  {
   "cell_type": "code",
   "execution_count": 1,
   "metadata": {
    "collapsed": true
   },
   "outputs": [],
   "source": [
    "import pandas as pd\n",
    "from nltk.tokenize import sent_tokenize, word_tokenize\n",
    "import re\n",
    "import random"
   ]
  },
  {
   "cell_type": "code",
   "execution_count": 2,
   "metadata": {
    "collapsed": true
   },
   "outputs": [],
   "source": [
    "data = pd.read_json('./cerpenmu/output.json')"
   ]
  },
  {
   "cell_type": "markdown",
   "metadata": {},
   "source": [
    "## Let's see what is our data (that we have scraped)"
   ]
  },
  {
   "cell_type": "code",
   "execution_count": 3,
   "metadata": {},
   "outputs": [
    {
     "name": "stdout",
     "output_type": "stream",
     "text": [
      "<p>Sore itu langit terlihat cerah, warna biru yang dibalut gumpalan-gumpalan putih awan menarik sekawanan burung untuk terbang melintasinya. Rumput dan pepohonan menyisakan beberapa tetes air hujan yang sempat turun beberapa saat lalu. Jalanan pun masih menyimpan genangan-genangan air yang sewaktu-waktu bisa muncrat jika ada yang melintasinya. Memang saat yang tepat untuk istirahat setelah aktivitas harian yang melelahkan. Meskipun tidak banyak yang memanfaatkannya untuk sejenak melepas lelah karena alasan pekerjaan. Seperti sebagian besar mahasiswa di kampus ini, yang masih lalu-lalang keluar-masuk kampus untuk menyelesaikan urusan masing-masing.</p>\n",
      "\n",
      "<p>Di kampus ini, ada tempat favorit mahasiswa yang digunakan untuk berkumpul. Entah berkumpul karena tugas kuliah, diskusi, rapat organisasi atau mungkin sekedar kumpulan komunitas. Ketika ditanya kenapa suka tempat itu, ada yang bilang “sinyal wi-finya bagus, jadi browsing tugasnya cepat”, yang lain bilang “tempatnya strategis, dekat sama tempat mana aja” ada juga yang bilang sekedar ikut-ikutan temannya. Intinya, tempat tersebut nyaman menurut mereka. “Gedung Pusat Informasi”, demikian nama tempat itu. Di sekitar gedung itulah para mahasiswa banyak menghabiskan aktivitas mereka selepas jam kuliah. Seperti sore ini, gedung tersebut masih ramai oleh aktivitas mahasiswa.</p>\n",
      "\n",
      "<p>“contohnya sudah kamu masukkan ke slide, Ay?” tanya salah seorang mahasiswa kepada teman perempuannya. Sambil membolak-balik lembaran buku, mahasiswa tersebut mengetik tiap kalimat yang dilihatnya. Jari-jarinya begitu piawai mengetik tombol-tombol huruf pada keyboard laptopnya. Tampak di sudut kanan punggung monitor, tertempel stiker lucu yang bertuliskan “Rizal punya”. Ya, namanya Rizal, mahasiswa jurusan biologi semester V. Dia lumayan popular di jurusannya. Maklum, cowok di jurusan itu adalah kaum minoritas. Bagaimana tidak popular, kalau perbandingan cewek sama cowoknya saja 10 : 2. Meskipun tidak bisa dipungkiri terlepas dari kaum minoritasnya di biologi, yang membuatnya popular juga adalah sikapnya yang cerdas, tanggap, pengetahuannya yang luas dan kepribadiannya yang supel.<br>\n",
      "“sudah sih, tapi baru satu, cloning domba Dolly aja” jawab teman perempuannya yang belakangan diketahui namanya adalah Aya.<br>\n",
      "“kalau itu sih sudah banyak yang tau. Coba kamu cari contoh cloning yang pernah dilakukan pada manusia” suruh Rizal ke Aya. Aya mengangguk bersedia.</p>\n",
      "\n"
     ]
    }
   ],
   "source": [
    "for d in data['text'][:3]:\n",
    "    print(d)\n",
    "    print('')"
   ]
  },
  {
   "cell_type": "markdown",
   "metadata": {},
   "source": [
    "## Preprocessing\n",
    "\n",
    "After we collect **list of paragraph**, we need to convert it into **list of sentence**, where **sentence** merupakan **list of word**\n",
    "\n",
    "We can use NLTK library in this case, below is the code to process the raw paragraph"
   ]
  },
  {
   "cell_type": "code",
   "execution_count": 4,
   "metadata": {
    "collapsed": true
   },
   "outputs": [],
   "source": [
    "sentence_list = []\n",
    "for d in data['text']:\n",
    "    d = re.sub(r'<br>', '', d)\n",
    "    d = re.sub(r'<[\\/]{,1}p>', '', d)\n",
    "    d = re.sub(r'“', '', d)\n",
    "    d = re.sub(r'\"', '', d)\n",
    "    d = d.lower()\n",
    "    for s in sent_tokenize(d):\n",
    "        sentence_list.append(s)"
   ]
  },
  {
   "cell_type": "code",
   "execution_count": 5,
   "metadata": {
    "collapsed": true
   },
   "outputs": [],
   "source": [
    "word_list = [word_tokenize(s) for s in sentence_list]"
   ]
  },
  {
   "cell_type": "markdown",
   "metadata": {},
   "source": [
    "## Modelling\n",
    "\n",
    "In the last part, we will use gensim to generate the word vector. Word vector can be widely used in NLP, for this case, let me use it to show what words are closely related to each other"
   ]
  },
  {
   "cell_type": "code",
   "execution_count": 6,
   "metadata": {
    "collapsed": true
   },
   "outputs": [],
   "source": [
    "import gensim"
   ]
  },
  {
   "cell_type": "code",
   "execution_count": 7,
   "metadata": {},
   "outputs": [
    {
     "data": {
      "text/plain": [
       "140971930"
      ]
     },
     "execution_count": 7,
     "metadata": {},
     "output_type": "execute_result"
    }
   ],
   "source": [
    "model = gensim.models.Word2Vec(word_list, size=100, workers=4)  # an empty model, no training yet\n",
    "model.train(word_list, total_examples=model.corpus_count, epochs=100)  # can be a non-repeatable, 1-pass generator"
   ]
  },
  {
   "cell_type": "code",
   "execution_count": 8,
   "metadata": {},
   "outputs": [
    {
     "data": {
      "text/plain": [
       "[('bandung', 0.6503324508666992),\n",
       " ('surabaya', 0.6352939605712891),\n",
       " ('kota', 0.6281882524490356),\n",
       " ('kotaku', 0.5951042175292969),\n",
       " ('london', 0.5760133266448975),\n",
       " ('singapura', 0.5615594983100891),\n",
       " ('jogja', 0.555084228515625),\n",
       " ('amerika', 0.5486961603164673),\n",
       " ('garut', 0.5465463995933533),\n",
       " ('yogyakarta', 0.5410457849502563),\n",
       " ('bogor', 0.540931224822998),\n",
       " ('kalimantan', 0.5312919020652771),\n",
       " ('bekasi', 0.5277451276779175),\n",
       " ('kantor', 0.5251922607421875),\n",
       " ('perusahaan', 0.5234262347221375),\n",
       " ('asalku', 0.5202034115791321),\n",
       " ('daerah', 0.5190582871437073),\n",
       " ('bali', 0.5189632177352905),\n",
       " ('makasar', 0.5181764364242554),\n",
       " ('pasar', 0.5167723894119263)]"
      ]
     },
     "execution_count": 8,
     "metadata": {},
     "output_type": "execute_result"
    }
   ],
   "source": [
    "model.most_similar(positive=['jakarta'], topn=20)"
   ]
  },
  {
   "cell_type": "code",
   "execution_count": null,
   "metadata": {
    "collapsed": true
   },
   "outputs": [],
   "source": []
  }
 ],
 "metadata": {
  "kernelspec": {
   "display_name": "Python 3",
   "language": "python",
   "name": "python3"
  },
  "language_info": {
   "codemirror_mode": {
    "name": "ipython",
    "version": 3
   },
   "file_extension": ".py",
   "mimetype": "text/x-python",
   "name": "python",
   "nbconvert_exporter": "python",
   "pygments_lexer": "ipython3",
   "version": "3.6.3"
  }
 },
 "nbformat": 4,
 "nbformat_minor": 2
}
