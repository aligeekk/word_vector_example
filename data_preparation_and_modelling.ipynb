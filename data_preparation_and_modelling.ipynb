{
 "cells": [
  {
   "cell_type": "code",
   "execution_count": 1,
   "metadata": {},
   "outputs": [],
   "source": [
    "import pandas as pd\n",
    "from nltk.tokenize import sent_tokenize, word_tokenize\n",
    "import re\n",
    "import random"
   ]
  },
  {
   "cell_type": "code",
   "execution_count": 2,
   "metadata": {
    "collapsed": true
   },
   "outputs": [],
   "source": [
    "data = pd.read_json('./cerpenmu/output.json')"
   ]
  },
  {
   "cell_type": "code",
   "execution_count": 3,
   "metadata": {},
   "outputs": [
    {
     "name": "stdout",
     "output_type": "stream",
     "text": [
      "<p>Sore itu langit terlihat cerah, warna biru yang dibalut gumpalan-gumpalan putih awan menarik sekawanan burung untuk terbang melintasinya. Rumput dan pepohonan menyisakan beberapa tetes air hujan yang sempat turun beberapa saat lalu. Jalanan pun masih menyimpan genangan-genangan air yang sewaktu-waktu bisa muncrat jika ada yang melintasinya. Memang saat yang tepat untuk istirahat setelah aktivitas harian yang melelahkan. Meskipun tidak banyak yang memanfaatkannya untuk sejenak melepas lelah karena alasan pekerjaan. Seperti sebagian besar mahasiswa di kampus ini, yang masih lalu-lalang keluar-masuk kampus untuk menyelesaikan urusan masing-masing.</p>\n",
      "\n",
      "<p>Di kampus ini, ada tempat favorit mahasiswa yang digunakan untuk berkumpul. Entah berkumpul karena tugas kuliah, diskusi, rapat organisasi atau mungkin sekedar kumpulan komunitas. Ketika ditanya kenapa suka tempat itu, ada yang bilang “sinyal wi-finya bagus, jadi browsing tugasnya cepat”, yang lain bilang “tempatnya strategis, dekat sama tempat mana aja” ada juga yang bilang sekedar ikut-ikutan temannya. Intinya, tempat tersebut nyaman menurut mereka. “Gedung Pusat Informasi”, demikian nama tempat itu. Di sekitar gedung itulah para mahasiswa banyak menghabiskan aktivitas mereka selepas jam kuliah. Seperti sore ini, gedung tersebut masih ramai oleh aktivitas mahasiswa.</p>\n",
      "\n",
      "<p>“contohnya sudah kamu masukkan ke slide, Ay?” tanya salah seorang mahasiswa kepada teman perempuannya. Sambil membolak-balik lembaran buku, mahasiswa tersebut mengetik tiap kalimat yang dilihatnya. Jari-jarinya begitu piawai mengetik tombol-tombol huruf pada keyboard laptopnya. Tampak di sudut kanan punggung monitor, tertempel stiker lucu yang bertuliskan “Rizal punya”. Ya, namanya Rizal, mahasiswa jurusan biologi semester V. Dia lumayan popular di jurusannya. Maklum, cowok di jurusan itu adalah kaum minoritas. Bagaimana tidak popular, kalau perbandingan cewek sama cowoknya saja 10 : 2. Meskipun tidak bisa dipungkiri terlepas dari kaum minoritasnya di biologi, yang membuatnya popular juga adalah sikapnya yang cerdas, tanggap, pengetahuannya yang luas dan kepribadiannya yang supel.<br>\n",
      "“sudah sih, tapi baru satu, cloning domba Dolly aja” jawab teman perempuannya yang belakangan diketahui namanya adalah Aya.<br>\n",
      "“kalau itu sih sudah banyak yang tau. Coba kamu cari contoh cloning yang pernah dilakukan pada manusia” suruh Rizal ke Aya. Aya mengangguk bersedia.</p>\n",
      "\n"
     ]
    }
   ],
   "source": [
    "for d in data['text'][:3]:\n",
    "    print(d)\n",
    "    print('')"
   ]
  },
  {
   "cell_type": "code",
   "execution_count": 4,
   "metadata": {
    "collapsed": true
   },
   "outputs": [],
   "source": [
    "sentence_list = []\n",
    "for d in data['text']:\n",
    "    d = re.sub(r'<br>', '', d)\n",
    "    d = re.sub(r'<[\\/]{,1}p>', '', d)\n",
    "    d = re.sub(r'“', '', d)\n",
    "    d = re.sub(r'\"', '', d)\n",
    "    d = d.lower()\n",
    "    for s in sent_tokenize(d):\n",
    "        sentence_list.append(s)"
   ]
  },
  {
   "cell_type": "code",
   "execution_count": 5,
   "metadata": {
    "collapsed": true
   },
   "outputs": [],
   "source": [
    "word_list = [word_tokenize(s) for s in sentence_list]"
   ]
  },
  {
   "cell_type": "code",
   "execution_count": null,
   "metadata": {
    "collapsed": true
   },
   "outputs": [],
   "source": [
    "import gensim"
   ]
  },
  {
   "cell_type": "code",
   "execution_count": null,
   "metadata": {
    "collapsed": true
   },
   "outputs": [],
   "source": [
    "model = gensim.models.Word2Vec(word_list, size=100, workers=4)  # an empty model, no training yet\n",
    "model.train(word_list, total_examples=model.corpus_count, epochs=100)  # can be a non-repeatable, 1-pass generator"
   ]
  },
  {
   "cell_type": "code",
   "execution_count": null,
   "metadata": {
    "collapsed": true
   },
   "outputs": [],
   "source": [
    "model.most_similar(positive=['jakarta'], topn=20)"
   ]
  },
  {
   "cell_type": "code",
   "execution_count": null,
   "metadata": {
    "collapsed": true
   },
   "outputs": [],
   "source": []
  }
 ],
 "metadata": {
  "kernelspec": {
   "display_name": "Python 3",
   "language": "python",
   "name": "python3"
  },
  "language_info": {
   "codemirror_mode": {
    "name": "ipython",
    "version": 3
   },
   "file_extension": ".py",
   "mimetype": "text/x-python",
   "name": "python",
   "nbconvert_exporter": "python",
   "pygments_lexer": "ipython3",
   "version": "3.6.3"
  }
 },
 "nbformat": 4,
 "nbformat_minor": 2
}
